{
 "cells": [
  {
   "cell_type": "code",
   "execution_count": 5,
   "id": "daad765d-e08c-4a8f-ac06-70b172feebe4",
   "metadata": {},
   "outputs": [
    {
     "data": {
      "text/html": [
       "<div>\n",
       "<style scoped>\n",
       "    .dataframe tbody tr th:only-of-type {\n",
       "        vertical-align: middle;\n",
       "    }\n",
       "\n",
       "    .dataframe tbody tr th {\n",
       "        vertical-align: top;\n",
       "    }\n",
       "\n",
       "    .dataframe thead th {\n",
       "        text-align: right;\n",
       "    }\n",
       "</style>\n",
       "<table border=\"1\" class=\"dataframe\">\n",
       "  <thead>\n",
       "    <tr style=\"text-align: right;\">\n",
       "      <th></th>\n",
       "      <th>uid</th>\n",
       "      <th>Age</th>\n",
       "      <th>Day (Seasonal Cycle)</th>\n",
       "      <th>YYYYMMDD</th>\n",
       "      <th>Second (Daily Cycle)</th>\n",
       "      <th>HHMMSS</th>\n",
       "      <th>mins_since_df_visit</th>\n",
       "      <th>status</th>\n",
       "    </tr>\n",
       "  </thead>\n",
       "  <tbody>\n",
       "    <tr>\n",
       "      <th>0</th>\n",
       "      <td>402</td>\n",
       "      <td>20.0</td>\n",
       "      <td>0</td>\n",
       "      <td>20180716</td>\n",
       "      <td>68702</td>\n",
       "      <td>190502</td>\n",
       "      <td>-1</td>\n",
       "      <td>no change</td>\n",
       "    </tr>\n",
       "    <tr>\n",
       "      <th>1</th>\n",
       "      <td>402</td>\n",
       "      <td>20.0</td>\n",
       "      <td>0</td>\n",
       "      <td>20180716</td>\n",
       "      <td>68704</td>\n",
       "      <td>190504</td>\n",
       "      <td>-1</td>\n",
       "      <td>no change</td>\n",
       "    </tr>\n",
       "    <tr>\n",
       "      <th>2</th>\n",
       "      <td>402</td>\n",
       "      <td>20.0</td>\n",
       "      <td>0</td>\n",
       "      <td>20180716</td>\n",
       "      <td>68709</td>\n",
       "      <td>190509</td>\n",
       "      <td>-1</td>\n",
       "      <td>no change</td>\n",
       "    </tr>\n",
       "    <tr>\n",
       "      <th>3</th>\n",
       "      <td>402</td>\n",
       "      <td>20.0</td>\n",
       "      <td>0</td>\n",
       "      <td>20180716</td>\n",
       "      <td>68711</td>\n",
       "      <td>190511</td>\n",
       "      <td>-1</td>\n",
       "      <td>no change</td>\n",
       "    </tr>\n",
       "    <tr>\n",
       "      <th>4</th>\n",
       "      <td>402</td>\n",
       "      <td>20.0</td>\n",
       "      <td>0</td>\n",
       "      <td>20180716</td>\n",
       "      <td>68713</td>\n",
       "      <td>190513</td>\n",
       "      <td>-1</td>\n",
       "      <td>no change</td>\n",
       "    </tr>\n",
       "    <tr>\n",
       "      <th>...</th>\n",
       "      <td>...</td>\n",
       "      <td>...</td>\n",
       "      <td>...</td>\n",
       "      <td>...</td>\n",
       "      <td>...</td>\n",
       "      <td>...</td>\n",
       "      <td>...</td>\n",
       "      <td>...</td>\n",
       "    </tr>\n",
       "    <tr>\n",
       "      <th>6462181</th>\n",
       "      <td>5342</td>\n",
       "      <td>5.0</td>\n",
       "      <td>49</td>\n",
       "      <td>20180903</td>\n",
       "      <td>86273</td>\n",
       "      <td>235753</td>\n",
       "      <td>2396</td>\n",
       "      <td>no change</td>\n",
       "    </tr>\n",
       "    <tr>\n",
       "      <th>6462182</th>\n",
       "      <td>5342</td>\n",
       "      <td>5.0</td>\n",
       "      <td>49</td>\n",
       "      <td>20180903</td>\n",
       "      <td>86277</td>\n",
       "      <td>235757</td>\n",
       "      <td>2397</td>\n",
       "      <td>no change</td>\n",
       "    </tr>\n",
       "    <tr>\n",
       "      <th>6462183</th>\n",
       "      <td>5342</td>\n",
       "      <td>5.0</td>\n",
       "      <td>49</td>\n",
       "      <td>20180903</td>\n",
       "      <td>86278</td>\n",
       "      <td>235758</td>\n",
       "      <td>2398</td>\n",
       "      <td>no change</td>\n",
       "    </tr>\n",
       "    <tr>\n",
       "      <th>6462184</th>\n",
       "      <td>5342</td>\n",
       "      <td>5.0</td>\n",
       "      <td>49</td>\n",
       "      <td>20180903</td>\n",
       "      <td>86279</td>\n",
       "      <td>235759</td>\n",
       "      <td>2399</td>\n",
       "      <td>no change</td>\n",
       "    </tr>\n",
       "    <tr>\n",
       "      <th>6462185</th>\n",
       "      <td>5342</td>\n",
       "      <td>5.0</td>\n",
       "      <td>49</td>\n",
       "      <td>20180903</td>\n",
       "      <td>86282</td>\n",
       "      <td>235802</td>\n",
       "      <td>2400</td>\n",
       "      <td>no change</td>\n",
       "    </tr>\n",
       "  </tbody>\n",
       "</table>\n",
       "<p>218553930 rows × 8 columns</p>\n",
       "</div>"
      ],
      "text/plain": [
       "          uid   Age  Day (Seasonal Cycle)  YYYYMMDD  Second (Daily Cycle)  \\\n",
       "0         402  20.0                     0  20180716                 68702   \n",
       "1         402  20.0                     0  20180716                 68704   \n",
       "2         402  20.0                     0  20180716                 68709   \n",
       "3         402  20.0                     0  20180716                 68711   \n",
       "4         402  20.0                     0  20180716                 68713   \n",
       "...       ...   ...                   ...       ...                   ...   \n",
       "6462181  5342   5.0                    49  20180903                 86273   \n",
       "6462182  5342   5.0                    49  20180903                 86277   \n",
       "6462183  5342   5.0                    49  20180903                 86278   \n",
       "6462184  5342   5.0                    49  20180903                 86279   \n",
       "6462185  5342   5.0                    49  20180903                 86282   \n",
       "\n",
       "         HHMMSS  mins_since_df_visit     status  \n",
       "0        190502                   -1  no change  \n",
       "1        190504                   -1  no change  \n",
       "2        190509                   -1  no change  \n",
       "3        190511                   -1  no change  \n",
       "4        190513                   -1  no change  \n",
       "...         ...                  ...        ...  \n",
       "6462181  235753                 2396  no change  \n",
       "6462182  235757                 2397  no change  \n",
       "6462183  235758                 2398  no change  \n",
       "6462184  235759                 2399  no change  \n",
       "6462185  235802                 2400  no change  \n",
       "\n",
       "[218553930 rows x 8 columns]"
      ]
     },
     "execution_count": 5,
     "metadata": {},
     "output_type": "execute_result"
    }
   ],
   "source": [
    "# Import libraries + data\n",
    "import pandas as pd\n",
    "import numpy as np\n",
    "import datetime as dt\n",
    "from sklearn.utils import resample\n",
    "from bees_lifetimetracking_2018data import definitions2024 as bn\n",
    "\n",
    "data = pd.DataFrame()\n",
    "for day in range(0, 50):\n",
    "    newData = pd.read_csv(f'day{day}.csv')\n",
    "    data = pd.concat([data, newData])\n",
    "\n",
    "# Tidying\n",
    "result = data.drop(columns=['Unnamed: 0'])\n",
    "\n",
    "# DF ready for analysis!\n",
    "result = result.sort_values(by=['uid', 'datetime'])\n",
    "result = result[['uid', 'Age', 'Day (Seasonal Cycle)', 'YYYYMMDD', 'Second (Daily Cycle)', 'HHMMSS', 'mins_since_df_visit', 'status']]\n",
    "result = result.drop_duplicates()\n",
    "result"
   ]
  },
  {
   "cell_type": "code",
   "execution_count": 11,
   "id": "b331c1ff-16c8-49de-abcf-e10f5e892f25",
   "metadata": {},
   "outputs": [
    {
     "data": {
      "text/plain": [
       "status\n",
       "no change    218534341\n",
       "leave            19589\n",
       "Name: count, dtype: int64"
      ]
     },
     "execution_count": 11,
     "metadata": {},
     "output_type": "execute_result"
    }
   ],
   "source": [
    "result.status.value_counts()"
   ]
  },
  {
   "cell_type": "code",
   "execution_count": 13,
   "id": "18ca1aba-0fe0-4502-a86a-572ee2ca5698",
   "metadata": {},
   "outputs": [
    {
     "name": "stderr",
     "output_type": "stream",
     "text": [
      "/var/folders/n0/1cczvx7j28x3rr7vsk304gy80000gq/T/ipykernel_11517/93474185.py:3: FutureWarning: Series.__getitem__ treating keys as positions is deprecated. In a future version, integer keys will always be treated as labels (consistent with DataFrame behavior). To access a value by position, use `ser.iloc[pos]`\n",
      "  resample(result[result['status'] == 'no change'], n_samples=result.status.value_counts()[1], random_state=42),\n"
     ]
    },
    {
     "data": {
      "text/plain": [
       "status\n",
       "leave        19589\n",
       "no change    19589\n",
       "Name: count, dtype: int64"
      ]
     },
     "execution_count": 13,
     "metadata": {},
     "output_type": "execute_result"
    }
   ],
   "source": [
    "# Balancing data\n",
    "df = pd.concat([\n",
    "    resample(result[result['status'] == 'no change'], n_samples=result.status.value_counts()[1], random_state=42),\n",
    "    result[result['status'] == 'leave']\n",
    "]).sample(frac=1, random_state=42).reset_index(drop=True)\n",
    "df.status.value_counts()"
   ]
  },
  {
   "cell_type": "code",
   "execution_count": 15,
   "id": "d793c1db-ea34-45cf-b7e8-d02ca9032067",
   "metadata": {},
   "outputs": [],
   "source": [
    "# quick switch from no change and leave to 0 and 1\n",
    "df['status'] = df['status'].map({'no change': 0, 'leave': 1})\n",
    "\n",
    "# Split Train and Test Data\n",
    "from sklearn.model_selection import train_test_split\n",
    "\n",
    "y = df['status']\n",
    "X = df[['Age','Day (Seasonal Cycle)', 'Second (Daily Cycle)', 'mins_since_df_visit']]\n",
    "\n",
    "X_train, X_test, y_train, y_test = train_test_split(X,y, test_size=0.33, random_state=25)"
   ]
  },
  {
   "cell_type": "code",
   "execution_count": 17,
   "id": "702a2401-e52c-4a3a-9508-8a09c47f4e19",
   "metadata": {},
   "outputs": [],
   "source": [
    "df.to_csv('df.csv')"
   ]
  },
  {
   "cell_type": "code",
   "execution_count": 19,
   "id": "34203acb-12c4-4331-a097-e609f717cfb8",
   "metadata": {},
   "outputs": [],
   "source": [
    "# more libraries\n",
    "from sklearn.preprocessing import StandardScaler\n",
    "scaler = StandardScaler()\n",
    "X_train = scaler.fit_transform(X_train)\n",
    "X_test = scaler.transform(X_test)\n",
    "import seaborn as sns\n",
    "from sklearn.metrics import confusion_matrix,precision_score,recall_score,f1_score,accuracy_score, ConfusionMatrixDisplay\n",
    "from sklearn.model_selection import train_test_split, cross_val_score, cross_val_predict\n",
    "import matplotlib.pyplot as plt\n",
    "%matplotlib inline"
   ]
  },
  {
   "cell_type": "code",
   "execution_count": 24,
   "id": "bc923774-a678-4e18-9973-7f7546bd8605",
   "metadata": {},
   "outputs": [],
   "source": [
    "# snatched straight from Padma <3\n",
    "def model_performance(model,x_train,x_test, y_train,y_test):\n",
    "    print(f\"{model} Performance:\\n\")\n",
    "    \n",
    "    y_pred = model.predict(x_test)\n",
    "    cm = confusion_matrix(y_test, y_pred, labels=model.classes_)\n",
    "    sns.set(rc = {'figure.figsize':(6,4)})\n",
    "    sns.heatmap(cm, cmap = 'Blues', annot = True, fmt = 'd', linewidths = 2, linecolor='black', clip_on = False, cbar = False, annot_kws = {'fontsize': 15}, \n",
    "    yticklabels = ['No Forage', 'Forage'], xticklabels = ['Predicted no forage', 'Predicted forage'])\n",
    "    plt.show()\n",
    "   \n",
    "    \n",
    "    precision = precision_score(y_test,y_pred)\n",
    "    recall = recall_score(y_test,y_pred)\n",
    "    accuracy = accuracy_score(y_test,y_pred)\n",
    "    f1 = f1_score(y_test,y_pred)\n",
    "\n",
    "    cross_val_score_insample = cross_val_score(model,x_train,y_train,cv=5,scoring='accuracy').mean()\n",
    "    cross_val_score_outsample = cross_val_score(model,x_test,y_test,cv=5,scoring='accuracy').mean()\n",
    "    \n",
    "    print('Precision Score:',precision)\n",
    "    print(\"Recall Score:\",recall)\n",
    "    print(\"Accuracy Score:\",accuracy)\n",
    "    print('F1 Score:',f1)\n",
    "    print(\"Cross Val Score Insample\",cross_val_score_insample)\n",
    "    print(\"Cross Val Score Outsample\",cross_val_score_outsample)\n",
    "    \n",
    "    return model,precision,recall,accuracy,cross_val_score_insample,cross_val_score_outsample"
   ]
  },
  {
   "cell_type": "markdown",
   "id": "52b2d17a-0d98-49a8-9855-7e6134b74e36",
   "metadata": {},
   "source": [
    "## Naive Bayes"
   ]
  },
  {
   "cell_type": "code",
   "execution_count": 27,
   "id": "af1bc787-3c47-4c13-905c-ed0d5d372db3",
   "metadata": {},
   "outputs": [
    {
     "name": "stdout",
     "output_type": "stream",
     "text": [
      "GaussianNB() Performance:\n",
      "\n"
     ]
    },
    {
     "data": {
      "image/png": "[encoded data removed]",
      "text/plain": [
       "<Figure size 600x400 with 1 Axes>"
      ]
     },
     "metadata": {},
     "output_type": "display_data"
    },
    {
     "name": "stdout",
     "output_type": "stream",
     "text": [
      "Precision Score: 0.5923214118088801\n",
      "Recall Score: 0.9639474488237091\n",
      "Accuracy Score: 0.6458349446979658\n",
      "F1 Score: 0.733763590906448\n",
      "Cross Val Score Insample 0.6389194349944207\n",
      "Cross Val Score Outsample 0.6432054463776831\n"
     ]
    }
   ],
   "source": [
    "from sklearn.naive_bayes import GaussianNB\n",
    "gnb = GaussianNB()\n",
    "y_pred = gnb.fit(X_train, y_train).predict(X_test)\n",
    "\n",
    "performance_nb = model_performance(gnb, X_train, X_test, y_train, y_test)"
   ]
  },
  {
   "cell_type": "markdown",
   "id": "21ae2e98-1588-4589-b8f7-ccd4bde0b5c9",
   "metadata": {},
   "source": [
    "## KNN"
   ]
  },
  {
   "cell_type": "code",
   "execution_count": 30,
   "id": "62ebd34f-8fae-43ea-9979-810f06b52b4c",
   "metadata": {},
   "outputs": [
    {
     "name": "stdout",
     "output_type": "stream",
     "text": [
      "Fitting 5 folds for each of 18 candidates, totalling 90 fits\n",
      "\t Ideal K-Val: 9\n",
      "\t Accuracy of Tuned Training Data: 74.49%\n"
     ]
    }
   ],
   "source": [
    "from sklearn.model_selection import GridSearchCV\n",
    "from sklearn.neighbors import KNeighborsClassifier\n",
    "\n",
    "knn_temp_model = KNeighborsClassifier()\n",
    "param_grid={'weights' : ['uniform','distance'],'n_neighbors' : (np.arange(9)+2)}\n",
    "knn_grid = GridSearchCV(knn_temp_model,param_grid,cv=5,scoring='accuracy',verbose=1)\n",
    "grid_results = knn_grid.fit(X_train,y_train)\n",
    "best_k = knn_grid.best_params_['n_neighbors']\n",
    "print(\"\\t Ideal K-Val: {}\".format(best_k))\n",
    "print(\"\\t Accuracy of Tuned Training Data: {:.2f}%\".format(grid_results.best_score_ * 100))"
   ]
  },
  {
   "cell_type": "code",
   "execution_count": 31,
   "id": "b47a69dc-a9fd-4545-ac68-5aa5dc5c01a4",
   "metadata": {},
   "outputs": [
    {
     "name": "stdout",
     "output_type": "stream",
     "text": [
      "KNeighborsClassifier(n_neighbors=9) Performance:\n",
      "\n"
     ]
    },
    {
     "data": {
      "image/png": "[encoded data removed]",
      "text/plain": [
       "<Figure size 600x400 with 1 Axes>"
      ]
     },
     "metadata": {},
     "output_type": "display_data"
    },
    {
     "name": "stdout",
     "output_type": "stream",
     "text": [
      "Precision Score: 0.7209589041095891\n",
      "Recall Score: 0.8040024442407577\n",
      "Accuracy Score: 0.7432129321679944\n",
      "F1 Score: 0.7602195579950888\n",
      "Cross Val Score Insample 0.7449427573506064\n",
      "Cross Val Score Outsample 0.7340097025943894\n"
     ]
    }
   ],
   "source": [
    "knn_model = KNeighborsClassifier(n_neighbors=best_k)\n",
    "knn_model.fit(X_train, y_train)\n",
    "performance_knn = model_performance(knn_model,X_train, X_test, y_train, y_test)"
   ]
  },
  {
   "cell_type": "markdown",
   "id": "a9ffb25c-88ea-4165-bfb5-5942e6661db4",
   "metadata": {},
   "source": [
    "## Logistic Regression"
   ]
  },
  {
   "cell_type": "code",
   "execution_count": 33,
   "id": "a21add0a-86af-4731-81b9-7eab432d957a",
   "metadata": {},
   "outputs": [
    {
     "name": "stdout",
     "output_type": "stream",
     "text": [
      "Number of mislabeled points out of a total 12929 points : 3660\n",
      "LogisticRegression() Performance:\n",
      "\n"
     ]
    },
    {
     "data": {
      "image/png": "[encoded data removed]",
      "text/plain": [
       "<Figure size 600x400 with 1 Axes>"
      ]
     },
     "metadata": {},
     "output_type": "display_data"
    },
    {
     "name": "stdout",
     "output_type": "stream",
     "text": [
      "Precision Score: 0.7167317512766597\n",
      "Recall Score: 0.7289948059883898\n",
      "Accuracy Score: 0.7169154613659215\n",
      "F1 Score: 0.7228112693123296\n",
      "Cross Val Score Insample 0.7156084587540483\n",
      "Cross Val Score Outsample 0.7169162324733238\n"
     ]
    }
   ],
   "source": [
    "from sklearn.linear_model import LogisticRegression\n",
    "\n",
    "lr = LogisticRegression(max_iter=100)\n",
    "y_pred = lr.fit(X_train, y_train).predict(X_test)\n",
    "print(\"Number of mislabeled points out of a total %d points : %d\" % (X_test.shape[0], (y_test != y_pred).sum()))\n",
    "performance_lr = model_performance(lr,X_train, X_test, y_train, y_test)"
   ]
  },
  {
   "cell_type": "markdown",
   "id": "6f040107-f64b-4858-bcc3-10f364981133",
   "metadata": {},
   "source": [
    "## Random Forest"
   ]
  },
  {
   "cell_type": "code",
   "execution_count": 35,
   "id": "bff2cb9a-f2ce-410f-9506-46c2fb85ec9b",
   "metadata": {},
   "outputs": [
    {
     "name": "stdout",
     "output_type": "stream",
     "text": [
      "Number of mislabeled points out of a total 12929 points : 2463\n",
      "RandomForestClassifier() Performance:\n",
      "\n"
     ]
    },
    {
     "data": {
      "image/png": "[encoded data removed]",
      "text/plain": [
       "<Figure size 600x400 with 1 Axes>"
      ]
     },
     "metadata": {},
     "output_type": "display_data"
    },
    {
     "name": "stdout",
     "output_type": "stream",
     "text": [
      "Precision Score: 0.810683305432963\n",
      "Recall Score: 0.8137794072716162\n",
      "Accuracy Score: 0.8094980276896898\n",
      "F1 Score: 0.812228405885492\n",
      "Cross Val Score Insample 0.8155357882226999\n",
      "Cross Val Score Outsample 0.8075647924174361\n"
     ]
    }
   ],
   "source": [
    "from sklearn.ensemble import RandomForestClassifier\n",
    "\n",
    "rfc = RandomForestClassifier()\n",
    "y_pred = rfc.fit(X_train, y_train).predict(X_test)\n",
    "print(\"Number of mislabeled points out of a total %d points : %d\" % (X_test.shape[0], (y_test != y_pred).sum()))\n",
    "performance_rfc = model_performance(rfc,X_train, X_test, y_train, y_test)"
   ]
  },
  {
   "cell_type": "code",
   "execution_count": 47,
   "id": "c5c6f47f-31ee-4765-adc8-d8ec66844364",
   "metadata": {},
   "outputs": [
    {
     "name": "stdout",
     "output_type": "stream",
     "text": [
      "                Feature  Gini Importance\n",
      "3   mins_since_df_visit         0.476286\n",
      "2  Second (Daily Cycle)         0.257420\n",
      "0                   Age         0.154380\n",
      "1  Day (Seasonal Cycle)         0.111914\n"
     ]
    },
    {
     "data": {
      "image/png": "[encoded data removed]",
      "text/plain": [
       "<Figure size 800x400 with 1 Axes>"
      ]
     },
     "metadata": {},
     "output_type": "display_data"
    }
   ],
   "source": [
    "feature_names = X.columns\n",
    "importances = rfc.feature_importances_\n",
    "feature_imp_df = pd.DataFrame({'Feature': feature_names, 'Gini Importance': importances}).sort_values('Gini Importance', ascending=False) \n",
    "print(feature_imp_df)\n",
    "\n",
    "# Create a bar plot for feature importance\n",
    "plt.figure(figsize=(8, 4))\n",
    "plt.barh(feature_names, importances, color='darkblue', edgecolor='black')\n",
    "plt.xlabel('Gini Importance')\n",
    "plt.title('Feature Importance - Gini Importance')\n",
    "plt.gca().invert_yaxis()  # Invert y-axis for better visualization\n",
    "plt.show()"
   ]
  },
  {
   "cell_type": "code",
   "execution_count": 50,
   "id": "0baad7cc-544c-44c7-a556-20e3c270452d",
   "metadata": {},
   "outputs": [
    {
     "data": {
      "text/plain": [
       "'from sklearn.ensemble import RandomForestClassifier\\n\\nyUnbalanced = df_unbalanced[\\'status\\']\\nXUnbalanced = df_unbalanced[[\\'Age\\',\\'Day (Seasonal Cycle)\\', \\'Second (Daily Cycle)\\', \\'mins_since_df_visit\\']]\\n\\nrfc = RandomForestClassifier()\\ny_pred = rfc.fit(X_train, y_train).predict(XUnbalanced)\\nprint(\"Number of mislabeled points out of a total %d points : %d\" % (XUnbalanced.shape[0], (yUnbalanced != y_pred).sum()))\\nperformance_rfc = model_performance(rfc, X_train, XUnbalanced, y_train, yUnbalanced)\\n'"
      ]
     },
     "execution_count": 50,
     "metadata": {},
     "output_type": "execute_result"
    }
   ],
   "source": [
    "'''from sklearn.ensemble import RandomForestClassifier\n",
    "\n",
    "yUnbalanced = df_unbalanced['status']\n",
    "XUnbalanced = df_unbalanced[['Age','Day (Seasonal Cycle)', 'Second (Daily Cycle)', 'mins_since_df_visit']]\n",
    "\n",
    "rfc = RandomForestClassifier()\n",
    "y_pred = rfc.fit(X_train, y_train).predict(XUnbalanced)\n",
    "print(\"Number of mislabeled points out of a total %d points : %d\" % (XUnbalanced.shape[0], (yUnbalanced != y_pred).sum()))\n",
    "performance_rfc = model_performance(rfc, X_train, XUnbalanced, y_train, yUnbalanced)\n",
    "'''"
   ]
  },
  {
   "cell_type": "markdown",
   "id": "3a664b5f-8c4d-4865-ac70-693a3ead9cfc",
   "metadata": {},
   "source": [
    "## SVM"
   ]
  },
  {
   "cell_type": "code",
   "execution_count": 53,
   "id": "f907a13a-c6f7-4b09-a15b-430ec8da4404",
   "metadata": {},
   "outputs": [
    {
     "name": "stdout",
     "output_type": "stream",
     "text": [
      "Number of mislabeled points out of a total 12929 points : 3891\n",
      "SVC(kernel='linear') Performance:\n",
      "\n"
     ]
    },
    {
     "data": {
      "image/png": "[encoded data removed]",
      "text/plain": [
       "<Figure size 600x400 with 1 Axes>"
      ]
     },
     "metadata": {},
     "output_type": "display_data"
    },
    {
     "name": "stdout",
     "output_type": "stream",
     "text": [
      "Precision Score: 0.7215823735603405\n",
      "Recall Score: 0.6604032997250229\n",
      "Accuracy Score: 0.6990486503209838\n",
      "F1 Score: 0.689638669538167\n",
      "Cross Val Score Insample 0.7008653983978809\n",
      "Cross Val Score Outsample 0.7053920156294644\n"
     ]
    }
   ],
   "source": [
    "from sklearn.svm import SVC\n",
    "\n",
    "svm = SVC(kernel = 'linear')\n",
    "y_pred = svm.fit(X_train, y_train).predict(X_test)\n",
    "print(\"Number of mislabeled points out of a total %d points : %d\" % (X_test.shape[0], (y_test != y_pred).sum()))\n",
    "performance_svm = model_performance(svm,X_train, X_test, y_train, y_test)"
   ]
  },
  {
   "cell_type": "markdown",
   "id": "375328aa-1a15-4b94-a42e-69b8849ca62d",
   "metadata": {},
   "source": [
    "- include rest of days\n",
    "- analysis for factors individually + weights\n",
    "- neural network (include variation in parameters/process)\n",
    "- try grid method for random forest+similar, not just knn"
   ]
  },
  {
   "cell_type": "code",
   "execution_count": null,
   "id": "f1f8f625-4837-4b21-ad16-c8d633774753",
   "metadata": {},
   "outputs": [],
   "source": []
  }
 ],
 "metadata": {
  "kernelspec": {
   "display_name": "Python [conda env:base] *",
   "language": "python",
   "name": "conda-base-py"
  },
  "language_info": {
   "codemirror_mode": {
    "name": "ipython",
    "version": 3
   },
   "file_extension": ".py",
   "mimetype": "text/x-python",
   "name": "python",
   "nbconvert_exporter": "python",
   "pygments_lexer": "ipython3",
   "version": "3.12.7"
  }
 },
 "nbformat": 4,
 "nbformat_minor": 5
}
