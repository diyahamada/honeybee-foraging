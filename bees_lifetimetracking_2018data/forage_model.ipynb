{
 "cells": [
  {
   "cell_type": "markdown",
   "id": "b6bb6d0b",
   "metadata": {},
   "source": [
    "## First Foraging Model\n",
    "Parameter: Age, Indicator of frame, Mean distance from Exit in past 10 mins <br>\n",
    "Assumption: All leaving bees are assumed to be foraging"
   ]
  },
  {
   "cell_type": "code",
   "execution_count": 1,
   "id": "f297267f",
   "metadata": {},
   "outputs": [
    {
     "name": "stderr",
     "output_type": "stream",
     "text": [
      "/Users/padmaprabagaran/dev/honey-bee-behavior/bees_lifetimetracking_2018data/definitions_2018.py:20: FutureWarning: The 'freq' argument in Timestamp is deprecated and will be removed in a future version.\n",
      "  cohort_birthdates = np.array([pd.Timestamp(np.array(cohort_data['DOB'][cohort_data['cohort']==c])[0],freq='D') for c in cohort_colornames])\n"
     ]
    }
   ],
   "source": [
    "import pandas as pd\n",
    "import numpy as np\n",
    "import matplotlib.pyplot as plt\n",
    "import random\n",
    "import warnings\n",
    "from bees_lifetimetracking_2018data import datafunctions\n",
    "from bees_lifetimetracking_2018data import definitions_2018 as bd\n",
    "from bees_lifetimetracking_2018data import displayfunctions as bp\n",
    "\n",
    "datafunctions.init(bd) \n",
    "bp.init(bd)\n",
    "\n",
    "warnings.filterwarnings(\"ignore\")"
   ]
  },
  {
   "cell_type": "markdown",
   "id": "1190d86a",
   "metadata": {},
   "source": [
    "### Get the Data"
   ]
  },
  {
   "cell_type": "code",
   "execution_count": 2,
   "id": "ab8301fc",
   "metadata": {},
   "outputs": [],
   "source": [
    "PATH = '/Users/padmaprabagaran/dev/honey-bee-behavior/Data/zenodo/'"
   ]
  },
  {
   "cell_type": "code",
   "execution_count": 12,
   "id": "eee95eaa",
   "metadata": {},
   "outputs": [],
   "source": [
    "def getExitFrameLocation(df):\n",
    "    x_max = 6500\n",
    "    x_min = 3500\n",
    "    y_min = 3800\n",
    "    y_max = 5400\n",
    "    \n",
    "    x = np.array(df['x']).astype(float)\n",
    "    y = np.array(df['y']).astype(float)\n",
    "    camera = np.array(df['camera']).astype(int)\n",
    "    conv_factor = 1\n",
    "    x_adjusted = x/conv_factor + (np.logical_not(camera).astype(int))*bd.xpixels\n",
    "    y_adjusted = y/conv_factor\n",
    "\n",
    "    \n",
    "    x_bounds = (x_adjusted >= x_min) & (x_adjusted <= x_max)\n",
    "    y_bounds = (y_adjusted >= y_min) & (y_adjusted <= y_max)\n",
    "    \n",
    "    df['in_exit_frame'] = (x_bounds & y_bounds).astype('int')\n",
    "    \n",
    "    return df"
   ]
  },
  {
   "cell_type": "code",
   "execution_count": 30,
   "id": "894a3d77",
   "metadata": {},
   "outputs": [
    {
     "ename": "SyntaxError",
     "evalue": "unexpected EOF while parsing (3657728501.py, line 1)",
     "output_type": "error",
     "traceback": [
      "\u001b[0;36m  Input \u001b[0;32mIn [30]\u001b[0;36m\u001b[0m\n\u001b[0;31m    def getMeanExitDist():\u001b[0m\n\u001b[0m                          ^\u001b[0m\n\u001b[0;31mSyntaxError\u001b[0m\u001b[0;31m:\u001b[0m unexpected EOF while parsing\n"
     ]
    }
   ],
   "source": [
    "def getMeanExitDist():"
   ]
  },
  {
   "cell_type": "code",
   "execution_count": 26,
   "id": "1f864745",
   "metadata": {},
   "outputs": [],
   "source": [
    "def getData(daynum,df):\n",
    "    if daynum >= 50:\n",
    "        datadir = PATH + 'beetrajectories_days_050_to_085/'\n",
    "    else:\n",
    "        datadir = PATH + 'beetrajectories_days_000_to_049/'\n",
    "\n",
    "    temp = pd.read_hdf('{}beetrajectories_{:0>3}.hdf'.format(datadir,daynum))\n",
    "\n",
    "    ### DID THE BEE LEAVE?\n",
    "    dataDir = PATH + 'df_day1min_alldays/'\n",
    "    dfday = pd.read_hdf('{}df_day1min_{:0>2}.hdf'.format(dataDir,daynum))\n",
    "    numtimedivs = len(dfday['timedivision'].unique()) # minutes in a day\n",
    "    day_uids, day_ages, all_inhive, bee_obs, bee_exitdist = datafunctions.get_inout_estimates(dfday,\n",
    "                                                                                              numtimedivs=numtimedivs)\n",
    "\n",
    "    leave_hive_times_list = [np.where(diffs==-1)[0] for diffs in np.diff(all_inhive) ]\n",
    "\n",
    "    leave_hive_times_by_uid = []\n",
    "\n",
    "    for uid,leave_hive_times in zip(day_uids,leave_hive_times_list):\n",
    "        for leave_hive_time in leave_hive_times:\n",
    "            leave_hive_times_by_uid.append([uid,leave_hive_time])\n",
    "    df_leave_hive_events = pd.DataFrame(leave_hive_times_by_uid,columns=['uid','leave hive time'])\n",
    "\n",
    "    frames_per_day = 24*60*60*3\n",
    "    frames_per_timedivision = frames_per_day / numtimedivs\n",
    "    df_leave_hive_events['leave hive framenum'] = df_leave_hive_events['leave hive time']*frames_per_timedivision\n",
    "\n",
    "    leave_hive_times_by_uid = []\n",
    "    for uid,leave_hive_times in zip(day_uids,leave_hive_times_list):\n",
    "        for leave_hive_time in leave_hive_times:\n",
    "            leave_hive_times_by_uid.append([uid,leave_hive_time])\n",
    "    df_leave_hive_events = pd.DataFrame(leave_hive_times_by_uid,columns=['uid','leave hive time'])\n",
    "\n",
    "    # translate time to framenum (assuming 3 frames per second)\n",
    "    frames_per_day = 24*60*60*3\n",
    "    frames_per_timedivision = frames_per_day / numtimedivs\n",
    "    df_leave_hive_events['leave hive framenum'] = (df_leave_hive_events['leave hive time']*frames_per_timedivision).astype('int')\n",
    "\n",
    "\n",
    "    temp['forage'] = np.where((temp['framenum'].isin(df_leave_hive_events['leave hive framenum']))&(temp['uid'].isin(df_leave_hive_events['uid'])), 1,0)\n",
    "\n",
    "    \n",
    "    ### AGE\n",
    "\n",
    "    age_id = dfday[['Age','Bee unique ID']].astype('int')\n",
    "    age_id = age_id.rename(columns={\"Bee unique ID\":'uid'})\n",
    "    age_id = age_id.drop_duplicates()\n",
    "\n",
    "    temp = pd.merge(temp,age_id,on='uid', how='left')\n",
    "\n",
    "    ### Indicator of frame\n",
    "\n",
    "    temp = getExitFrameLocation(temp)\n",
    "\n",
    "    \n",
    "    ### Mean Exit Diastance\n",
    "    \n",
    "    \n",
    "    df = df.append(temp)\n",
    "    \n",
    "    return df\n",
    "    "
   ]
  },
  {
   "cell_type": "code",
   "execution_count": 27,
   "id": "b627d31a",
   "metadata": {},
   "outputs": [],
   "source": [
    "df = pd.DataFrame()\n",
    "for x in range(25,31):\n",
    "   df = getData(x,df)"
   ]
  },
  {
   "cell_type": "code",
   "execution_count": 28,
   "id": "5137a2de",
   "metadata": {},
   "outputs": [
    {
     "data": {
      "text/html": [
       "<div>\n",
       "<style scoped>\n",
       "    .dataframe tbody tr th:only-of-type {\n",
       "        vertical-align: middle;\n",
       "    }\n",
       "\n",
       "    .dataframe tbody tr th {\n",
       "        vertical-align: top;\n",
       "    }\n",
       "\n",
       "    .dataframe thead th {\n",
       "        text-align: right;\n",
       "    }\n",
       "</style>\n",
       "<table border=\"1\" class=\"dataframe\">\n",
       "  <thead>\n",
       "    <tr style=\"text-align: right;\">\n",
       "      <th></th>\n",
       "      <th>daynum</th>\n",
       "      <th>framenum</th>\n",
       "      <th>uid</th>\n",
       "      <th>x</th>\n",
       "      <th>y</th>\n",
       "      <th>camera</th>\n",
       "      <th>theta</th>\n",
       "      <th>forage</th>\n",
       "      <th>Age</th>\n",
       "      <th>in_exit_frame</th>\n",
       "    </tr>\n",
       "  </thead>\n",
       "  <tbody>\n",
       "    <tr>\n",
       "      <th>0</th>\n",
       "      <td>25</td>\n",
       "      <td>4794</td>\n",
       "      <td>1008</td>\n",
       "      <td>1055</td>\n",
       "      <td>3575</td>\n",
       "      <td>0</td>\n",
       "      <td>-1.20026</td>\n",
       "      <td>0</td>\n",
       "      <td>30</td>\n",
       "      <td>0</td>\n",
       "    </tr>\n",
       "    <tr>\n",
       "      <th>1</th>\n",
       "      <td>25</td>\n",
       "      <td>4797</td>\n",
       "      <td>1008</td>\n",
       "      <td>1046</td>\n",
       "      <td>3567</td>\n",
       "      <td>0</td>\n",
       "      <td>-1.57628</td>\n",
       "      <td>0</td>\n",
       "      <td>30</td>\n",
       "      <td>0</td>\n",
       "    </tr>\n",
       "    <tr>\n",
       "      <th>2</th>\n",
       "      <td>25</td>\n",
       "      <td>4798</td>\n",
       "      <td>1008</td>\n",
       "      <td>1022</td>\n",
       "      <td>3543</td>\n",
       "      <td>0</td>\n",
       "      <td>-1.80941</td>\n",
       "      <td>0</td>\n",
       "      <td>30</td>\n",
       "      <td>0</td>\n",
       "    </tr>\n",
       "    <tr>\n",
       "      <th>3</th>\n",
       "      <td>25</td>\n",
       "      <td>4799</td>\n",
       "      <td>1008</td>\n",
       "      <td>1022</td>\n",
       "      <td>3535</td>\n",
       "      <td>0</td>\n",
       "      <td>-1.65249</td>\n",
       "      <td>0</td>\n",
       "      <td>30</td>\n",
       "      <td>0</td>\n",
       "    </tr>\n",
       "    <tr>\n",
       "      <th>4</th>\n",
       "      <td>25</td>\n",
       "      <td>4800</td>\n",
       "      <td>1008</td>\n",
       "      <td>1022</td>\n",
       "      <td>3535</td>\n",
       "      <td>0</td>\n",
       "      <td>-1.35657</td>\n",
       "      <td>0</td>\n",
       "      <td>30</td>\n",
       "      <td>0</td>\n",
       "    </tr>\n",
       "    <tr>\n",
       "      <th>...</th>\n",
       "      <td>...</td>\n",
       "      <td>...</td>\n",
       "      <td>...</td>\n",
       "      <td>...</td>\n",
       "      <td>...</td>\n",
       "      <td>...</td>\n",
       "      <td>...</td>\n",
       "      <td>...</td>\n",
       "      <td>...</td>\n",
       "      <td>...</td>\n",
       "    </tr>\n",
       "    <tr>\n",
       "      <th>16092213</th>\n",
       "      <td>30</td>\n",
       "      <td>255198</td>\n",
       "      <td>4095</td>\n",
       "      <td>1727</td>\n",
       "      <td>528</td>\n",
       "      <td>0</td>\n",
       "      <td>1.74897</td>\n",
       "      <td>0</td>\n",
       "      <td>0</td>\n",
       "      <td>0</td>\n",
       "    </tr>\n",
       "    <tr>\n",
       "      <th>16092214</th>\n",
       "      <td>30</td>\n",
       "      <td>255199</td>\n",
       "      <td>4095</td>\n",
       "      <td>1728</td>\n",
       "      <td>536</td>\n",
       "      <td>0</td>\n",
       "      <td>1.59894</td>\n",
       "      <td>0</td>\n",
       "      <td>0</td>\n",
       "      <td>0</td>\n",
       "    </tr>\n",
       "    <tr>\n",
       "      <th>16092215</th>\n",
       "      <td>30</td>\n",
       "      <td>255200</td>\n",
       "      <td>4095</td>\n",
       "      <td>1736</td>\n",
       "      <td>536</td>\n",
       "      <td>0</td>\n",
       "      <td>1.55098</td>\n",
       "      <td>0</td>\n",
       "      <td>0</td>\n",
       "      <td>0</td>\n",
       "    </tr>\n",
       "    <tr>\n",
       "      <th>16092216</th>\n",
       "      <td>30</td>\n",
       "      <td>255201</td>\n",
       "      <td>4095</td>\n",
       "      <td>1727</td>\n",
       "      <td>544</td>\n",
       "      <td>0</td>\n",
       "      <td>1.67417</td>\n",
       "      <td>0</td>\n",
       "      <td>0</td>\n",
       "      <td>0</td>\n",
       "    </tr>\n",
       "    <tr>\n",
       "      <th>16092217</th>\n",
       "      <td>30</td>\n",
       "      <td>255202</td>\n",
       "      <td>4095</td>\n",
       "      <td>1719</td>\n",
       "      <td>544</td>\n",
       "      <td>0</td>\n",
       "      <td>1.84396</td>\n",
       "      <td>0</td>\n",
       "      <td>0</td>\n",
       "      <td>0</td>\n",
       "    </tr>\n",
       "  </tbody>\n",
       "</table>\n",
       "<p>98236104 rows × 10 columns</p>\n",
       "</div>"
      ],
      "text/plain": [
       "          daynum  framenum   uid     x     y  camera    theta  forage  Age  \\\n",
       "0             25      4794  1008  1055  3575       0 -1.20026       0   30   \n",
       "1             25      4797  1008  1046  3567       0 -1.57628       0   30   \n",
       "2             25      4798  1008  1022  3543       0 -1.80941       0   30   \n",
       "3             25      4799  1008  1022  3535       0 -1.65249       0   30   \n",
       "4             25      4800  1008  1022  3535       0 -1.35657       0   30   \n",
       "...          ...       ...   ...   ...   ...     ...      ...     ...  ...   \n",
       "16092213      30    255198  4095  1727   528       0  1.74897       0    0   \n",
       "16092214      30    255199  4095  1728   536       0  1.59894       0    0   \n",
       "16092215      30    255200  4095  1736   536       0  1.55098       0    0   \n",
       "16092216      30    255201  4095  1727   544       0  1.67417       0    0   \n",
       "16092217      30    255202  4095  1719   544       0  1.84396       0    0   \n",
       "\n",
       "          in_exit_frame  \n",
       "0                     0  \n",
       "1                     0  \n",
       "2                     0  \n",
       "3                     0  \n",
       "4                     0  \n",
       "...                 ...  \n",
       "16092213              0  \n",
       "16092214              0  \n",
       "16092215              0  \n",
       "16092216              0  \n",
       "16092217              0  \n",
       "\n",
       "[98236104 rows x 10 columns]"
      ]
     },
     "execution_count": 28,
     "metadata": {},
     "output_type": "execute_result"
    }
   ],
   "source": [
    "df"
   ]
  },
  {
   "cell_type": "markdown",
   "id": "a230837e",
   "metadata": {},
   "source": [
    "## Model Building"
   ]
  },
  {
   "cell_type": "code",
   "execution_count": 33,
   "id": "8349616e",
   "metadata": {},
   "outputs": [],
   "source": [
    "import seaborn as sns\n",
    "from sklearn.metrics import confusion_matrix,precision_score,recall_score,f1_score,accuracy_score, ConfusionMatrixDisplay\n",
    "from sklearn.model_selection import train_test_split, cross_val_score, cross_val_predict\n",
    "import matplotlib.pyplot as plt\n",
    "%matplotlib inline"
   ]
  },
  {
   "cell_type": "code",
   "execution_count": 35,
   "id": "dccae0df",
   "metadata": {},
   "outputs": [],
   "source": [
    "def model_performance(model,x_train,x_test, y_train,y_test):\n",
    "    print(f\"{model} Performance:\\n\")\n",
    "    \n",
    "    y_pred = model.predict(x_test)\n",
    "    cm = confusion_matrix(y_test, y_pred, labels=model.classes_)\n",
    "    sns.set(rc = {'figure.figsize':(6,4)})\n",
    "    sns.heatmap(cm, cmap = 'Blues', annot = True, fmt = 'd', linewidths = 5, cbar = False, annot_kws = {'fontsize': 15}, \n",
    "    yticklabels = ['No Forage', 'Forage'], xticklabels = ['Predicted no forage', 'Predicted forage'])\n",
    "    plt.show()\n",
    "   \n",
    "    \n",
    "    precision = precision_score(y_test,y_pred)\n",
    "    recall = recall_score(y_test,y_pred)\n",
    "    accuracy = accuracy_score(y_test,y_pred)\n",
    "    f1 = f1_score(y_test,y_pred)\n",
    "\n",
    "    cross_val_score_insample = cross_val_score(model,x_train,y_train,cv=5,scoring='accuracy').mean()\n",
    "    cross_val_score_outsample = cross_val_score(model,x_test,y_test,cv=5,scoring='accuracy').mean()\n",
    "    \n",
    "    print('Precision Score:',precision)\n",
    "    print(\"Recall Score:\",recall)\n",
    "    print(\"Accuracy Score:\",accuracy)\n",
    "    print('F1 Score:',f1)\n",
    "    print(\"Cross Val Score Insample\",cross_val_score_insample)\n",
    "    print(\"Cross Val Score Outsample\",cross_val_score_outsample)\n",
    "    \n",
    "    return model,precision,recall,accuracy,cross_val_score_insample,cross_val_score_outsample"
   ]
  },
  {
   "cell_type": "markdown",
   "id": "ba8ee563",
   "metadata": {},
   "source": [
    "### Balance the data set"
   ]
  },
  {
   "cell_type": "code",
   "execution_count": 39,
   "id": "7be17252",
   "metadata": {},
   "outputs": [
    {
     "data": {
      "text/plain": [
       "0    98183381\n",
       "1       52723\n",
       "Name: forage, dtype: int64"
      ]
     },
     "execution_count": 39,
     "metadata": {},
     "output_type": "execute_result"
    }
   ],
   "source": [
    "df.forage.value_counts()"
   ]
  },
  {
   "cell_type": "code",
   "execution_count": 40,
   "id": "1a7184ae",
   "metadata": {},
   "outputs": [],
   "source": [
    "## BALANCE THE DATA\n",
    "df_bal= df.groupby('forage').apply(lambda grp: grp.sample(n=50000)).reset_index(level=[0, 1], drop=True)"
   ]
  },
  {
   "cell_type": "code",
   "execution_count": 41,
   "id": "46cab868",
   "metadata": {},
   "outputs": [
    {
     "data": {
      "text/plain": [
       "0    50000\n",
       "1    50000\n",
       "Name: forage, dtype: int64"
      ]
     },
     "execution_count": 41,
     "metadata": {},
     "output_type": "execute_result"
    }
   ],
   "source": [
    "df_bal.forage.value_counts()"
   ]
  },
  {
   "cell_type": "markdown",
   "id": "bf6c2066",
   "metadata": {},
   "source": [
    "### Split into train and test"
   ]
  },
  {
   "cell_type": "code",
   "execution_count": 42,
   "id": "833c1fdd",
   "metadata": {},
   "outputs": [],
   "source": [
    "from sklearn.model_selection import train_test_split\n",
    "\n",
    "y = df_bal['forage']\n",
    "X = df_bal[['Age','in_exit_frame']]\n",
    "\n",
    "X_train, X_test, y_train, y_test = train_test_split(X,y, test_size=0.33, random_state=25)"
   ]
  },
  {
   "cell_type": "markdown",
   "id": "5e703829",
   "metadata": {},
   "source": [
    "### Naive Bayes"
   ]
  },
  {
   "cell_type": "code",
   "execution_count": 43,
   "id": "4e687e04",
   "metadata": {},
   "outputs": [
    {
     "name": "stdout",
     "output_type": "stream",
     "text": [
      "GaussianNB() Performance:\n",
      "\n"
     ]
    },
    {
     "data": {
      "image/png": "[encoded data removed]",
      "text/plain": [
       "<Figure size 432x288 with 1 Axes>"
      ]
     },
     "metadata": {},
     "output_type": "display_data"
    },
    {
     "name": "stdout",
     "output_type": "stream",
     "text": [
      "Precision Score: 0.6289589212919411\n",
      "Recall Score: 0.4835171457843669\n",
      "Accuracy Score: 0.5968787878787879\n",
      "F1 Score: 0.546730723363658\n",
      "Cross Val Score Insample 0.6016119402985074\n",
      "Cross Val Score Outsample 0.5968787878787879\n"
     ]
    }
   ],
   "source": [
    "from sklearn.naive_bayes import GaussianNB\n",
    "gnb = GaussianNB()\n",
    "y_pred = gnb.fit(X_train, y_train).predict(X_test)\n",
    "\n",
    "performance_nb = model_performance(gnb, X_train, X_test, y_train, y_test)"
   ]
  },
  {
   "cell_type": "markdown",
   "id": "d06e0867",
   "metadata": {},
   "source": [
    "### KNN"
   ]
  },
  {
   "cell_type": "code",
   "execution_count": 44,
   "id": "2c8234d1",
   "metadata": {},
   "outputs": [
    {
     "name": "stdout",
     "output_type": "stream",
     "text": [
      "Fitting 5 folds for each of 18 candidates, totalling 90 fits\n",
      "\t Ideal K-Val: 9\n",
      "\t Accuracy of Tuned Training Data: 59.39%\n"
     ]
    }
   ],
   "source": [
    "from sklearn.model_selection import GridSearchCV\n",
    "from sklearn.neighbors import KNeighborsClassifier\n",
    "\n",
    "knn_temp_model = KNeighborsClassifier()\n",
    "param_grid={'weights' : ['uniform','distance'],'n_neighbors' : (np.arange(9)+2)}\n",
    "knn_grid = GridSearchCV(knn_temp_model,param_grid,cv=5,scoring='accuracy',verbose=1)\n",
    "grid_results = knn_grid.fit(X_train,y_train)\n",
    "best_k = knn_grid.best_params_['n_neighbors']\n",
    "print(\"\\t Ideal K-Val: {}\".format(best_k))\n",
    "print(\"\\t Accuracy of Tuned Training Data: {:.2f}%\".format(grid_results.best_score_ * 100))"
   ]
  },
  {
   "cell_type": "code",
   "execution_count": 47,
   "id": "8a7bb72d",
   "metadata": {},
   "outputs": [
    {
     "name": "stdout",
     "output_type": "stream",
     "text": [
      "KNeighborsClassifier(n_neighbors=9) Performance:\n",
      "\n"
     ]
    },
    {
     "data": {
      "image/png": "[encoded data removed]",
      "text/plain": [
       "<Figure size 432x288 with 1 Axes>"
      ]
     },
     "metadata": {},
     "output_type": "display_data"
    },
    {
     "name": "stdout",
     "output_type": "stream",
     "text": [
      "Precision Score: 0.6114174708610102\n",
      "Recall Score: 0.5880190441752546\n",
      "Accuracy Score: 0.6049393939393939\n",
      "F1 Score: 0.5994900310282327\n",
      "Cross Val Score Insample 0.5938955223880598\n",
      "Cross Val Score Outsample 0.5837878787878787\n"
     ]
    }
   ],
   "source": [
    "knn_model = KNeighborsClassifier(n_neighbors=best_k)\n",
    "knn_model.fit(X_train, y_train)\n",
    "performance_knn = model_performance(knn_model,X_train, X_test, y_train, y_test)"
   ]
  },
  {
   "cell_type": "markdown",
   "id": "9239547a",
   "metadata": {},
   "source": [
    "### Logistic Regression\n",
    "    "
   ]
  },
  {
   "cell_type": "code",
   "execution_count": 49,
   "id": "45b70f3b",
   "metadata": {},
   "outputs": [
    {
     "name": "stdout",
     "output_type": "stream",
     "text": [
      "Number of mislabeled points out of a total 33000 points : 13400\n",
      "LogisticRegression() Performance:\n",
      "\n"
     ]
    },
    {
     "data": {
      "image/png": "[encoded data removed]",
      "text/plain": [
       "<Figure size 432x288 with 1 Axes>"
      ]
     },
     "metadata": {},
     "output_type": "display_data"
    },
    {
     "name": "stdout",
     "output_type": "stream",
     "text": [
      "Precision Score: 0.6213238088000608\n",
      "Recall Score: 0.49273790152473934\n",
      "Accuracy Score: 0.593939393939394\n",
      "F1 Score: 0.5496101102446894\n",
      "Cross Val Score Insample 0.5986268656716417\n",
      "Cross Val Score Outsample 0.5923939393939394\n"
     ]
    }
   ],
   "source": [
    "from sklearn.linear_model import LogisticRegression\n",
    "\n",
    "lr = LogisticRegression(max_iter=100)\n",
    "y_pred = lr.fit(X_train, y_train).predict(X_test)\n",
    "print(\"Number of mislabeled points out of a total %d points : %d\" % (X_test.shape[0], (y_test != y_pred).sum()))\n",
    "performance_lr = model_performance(lr,X_train, X_test, y_train, y_test)"
   ]
  },
  {
   "cell_type": "markdown",
   "id": "3df93efb",
   "metadata": {},
   "source": [
    "### Random Forest"
   ]
  },
  {
   "cell_type": "code",
   "execution_count": 51,
   "id": "93399424",
   "metadata": {},
   "outputs": [
    {
     "name": "stdout",
     "output_type": "stream",
     "text": [
      "Number of mislabeled points out of a total 33000 points : 12563\n",
      "RandomForestClassifier() Performance:\n",
      "\n"
     ]
    },
    {
     "data": {
      "image/png": "[encoded data removed]",
      "text/plain": [
       "<Figure size 432x288 with 1 Axes>"
      ]
     },
     "metadata": {},
     "output_type": "display_data"
    },
    {
     "name": "stdout",
     "output_type": "stream",
     "text": [
      "Precision Score: 0.6179604261796042\n",
      "Recall Score: 0.6361718797083107\n",
      "Accuracy Score: 0.6193030303030304\n",
      "F1 Score: 0.6269339272457313\n",
      "Cross Val Score Insample 0.6255074626865672\n",
      "Cross Val Score Outsample 0.6204242424242425\n"
     ]
    }
   ],
   "source": [
    "from sklearn.ensemble import RandomForestClassifier\n",
    "\n",
    "rfc = RandomForestClassifier()\n",
    "y_pred = rfc.fit(X_train, y_train).predict(X_test)\n",
    "print(\"Number of mislabeled points out of a total %d points : %d\" % (X_test.shape[0], (y_test != y_pred).sum()))\n",
    "performance_rfc = model_performance(rfc,X_train, X_test, y_train, y_test)"
   ]
  },
  {
   "cell_type": "markdown",
   "id": "d8421322",
   "metadata": {},
   "source": [
    "### SVM"
   ]
  },
  {
   "cell_type": "code",
   "execution_count": 52,
   "id": "70890410",
   "metadata": {},
   "outputs": [
    {
     "name": "stdout",
     "output_type": "stream",
     "text": [
      "Number of mislabeled points out of a total 33000 points : 13878\n",
      "SVC(kernel='linear') Performance:\n",
      "\n"
     ]
    },
    {
     "data": {
      "image/png": "[encoded data removed]",
      "text/plain": [
       "<Figure size 432x288 with 1 Axes>"
      ]
     },
     "metadata": {},
     "output_type": "display_data"
    },
    {
     "name": "stdout",
     "output_type": "stream",
     "text": [
      "Precision Score: 0.6522031617894383\n",
      "Recall Score: 0.35056951726631713\n",
      "Accuracy Score: 0.5794545454545454\n",
      "F1 Score: 0.45602069614299157\n",
      "Cross Val Score Insample 0.5831791044776119\n",
      "Cross Val Score Outsample 0.5794545454545454\n"
     ]
    }
   ],
   "source": [
    "from sklearn.svm import SVC\n",
    "\n",
    "svm = SVC(kernel = 'linear')\n",
    "y_pred = svm.fit(X_train, y_train).predict(X_test)\n",
    "print(\"Number of mislabeled points out of a total %d points : %d\" % (X_test.shape[0], (y_test != y_pred).sum()))\n",
    "performance_svm = model_performance(svm,X_train, X_test, y_train, y_test)"
   ]
  },
  {
   "cell_type": "code",
   "execution_count": null,
   "id": "6445f693",
   "metadata": {},
   "outputs": [],
   "source": []
  }
 ],
 "metadata": {
  "kernelspec": {
   "display_name": "Python 3 (ipykernel)",
   "language": "python",
   "name": "python3"
  },
  "language_info": {
   "codemirror_mode": {
    "name": "ipython",
    "version": 3
   },
   "file_extension": ".py",
   "mimetype": "text/x-python",
   "name": "python",
   "nbconvert_exporter": "python",
   "pygments_lexer": "ipython3",
   "version": "3.8.13"
  }
 },
 "nbformat": 4,
 "nbformat_minor": 5
}
